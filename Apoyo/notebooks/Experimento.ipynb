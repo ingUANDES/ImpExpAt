{
  "nbformat": 4,
  "nbformat_minor": 0,
  "metadata": {
    "colab": {
      "name": "Experimento.ipynb",
      "provenance": [],
      "authorship_tag": "ABX9TyM9IxvywS8bwD8sMxOFIp0T",
      "include_colab_link": true
    },
    "kernelspec": {
      "name": "python3",
      "display_name": "Python 3"
    },
    "language_info": {
      "name": "python"
    }
  },
  "cells": [
    {
      "cell_type": "markdown",
      "metadata": {
        "id": "view-in-github",
        "colab_type": "text"
      },
      "source": [
        "<a href=\"https://colab.research.google.com/github/ingUANDES/AttentionExp/blob/main/notebooks/Experimento.ipynb\" target=\"_parent\"><img src=\"https://colab.research.google.com/assets/colab-badge.svg\" alt=\"Open In Colab\"/></a>"
      ]
    },
    {
      "cell_type": "markdown",
      "source": [
        "[Fuente Ingesta código desde GitHub](https://colab.research.google.com/github/jckantor/cbe61622/blob/master/docs/A.02-Downloading_Python_source_files_from_github.ipynb)\n"
      ],
      "metadata": {
        "id": "gZqCvWpBBBnE"
      }
    },
    {
      "cell_type": "code",
      "source": [
        "!pip install Tk"
      ],
      "metadata": {
        "colab": {
          "base_uri": "https://localhost:8080/"
        },
        "id": "TIJ3s9JvK2tE",
        "outputId": "11e184da-27e2-44f1-edaf-fef39a4a4d17"
      },
      "execution_count": null,
      "outputs": [
        {
          "output_type": "stream",
          "name": "stdout",
          "text": [
            "Collecting Tk\n",
            "  Downloading tk-0.1.0-py3-none-any.whl (3.9 kB)\n",
            "Installing collected packages: Tk\n",
            "Successfully installed Tk-0.1.0\n"
          ]
        }
      ]
    },
    {
      "cell_type": "code",
      "source": [
        "from tkinter import *\n",
        "from PIL import Image, ImageDraw, ImageTk, ImageFont\n",
        "from timeit import default_timer as timer\n",
        "import random\n",
        "import threading\n",
        "import datetime\n",
        "import os\n",
        "import csv\n",
        "import time\n",
        "PREGUNTAS_TOTALES = 5\n",
        "TIEMPO_ENTRE_PREGUNTAS = 500"
      ],
      "metadata": {
        "id": "dSnULQEVK0Pf"
      },
      "execution_count": null,
      "outputs": []
    },
    {
      "cell_type": "code",
      "source": [
        "import subprocess\n",
        "\n",
        "user = \"ingUANDES\"\n",
        "repo = \"AttentionExp\"\n",
        "src_dir = \"code\"\n",
        "pyfile = \"experiment.py\"\n",
        "\n",
        "url = f\"https://raw.githubusercontent.com/{user}/{repo}/main/{src_dir}/{pyfile}\"\n",
        "!wget --no-cache --backups=1 {urld}\n",
        "result = subprocess.run([\"wget\", \"--no-cache\", \"--backups=1\", url], stderr=subprocess.PIPE, stdout=subprocess.PIPE)\n",
        "print(result.stderr.decode(\"utf-8\"))"
      ],
      "metadata": {
        "colab": {
          "base_uri": "https://localhost:8080/"
        },
        "id": "J860yuO_HxH7",
        "outputId": "0af31fa3-c11f-48a4-a2d3-7e55baa9ca33"
      },
      "execution_count": null,
      "outputs": [
        {
          "output_type": "stream",
          "name": "stdout",
          "text": [
            "--2022-04-19 18:46:28--  https://raw.githubusercontent.com/ingUANDES/AttentionExp/main/code/experiment.py?token=GHSAT0AAAAAABSRJX2GQU7YMX6NS234HAB2YS7AMGA\n",
            "Resolving raw.githubusercontent.com (raw.githubusercontent.com)... 185.199.108.133, 185.199.109.133, 185.199.110.133, ...\n",
            "Connecting to raw.githubusercontent.com (raw.githubusercontent.com)|185.199.108.133|:443... connected.\n",
            "HTTP request sent, awaiting response... 200 OK\n",
            "Length: 7176 (7.0K) [text/plain]\n",
            "Failed to rename experiment.py?token=GHSAT0AAAAAABSRJX2GQU7YMX6NS234HAB2YS7AMGA to experiment.py?token=GHSAT0AAAAAABSRJX2GQU7YMX6NS234HAB2YS7AMGA.1: (2) No such file or directory\n",
            "Saving to: ‘experiment.py?token=GHSAT0AAAAAABSRJX2GQU7YMX6NS234HAB2YS7AMGA’\n",
            "\n",
            "\r          experimen   0%[                    ]       0  --.-KB/s               \rexperiment.py?token 100%[===================>]   7.01K  --.-KB/s    in 0s      \n",
            "\n",
            "2022-04-19 18:46:28 (68.8 MB/s) - ‘experiment.py?token=GHSAT0AAAAAABSRJX2GQU7YMX6NS234HAB2YS7AMGA’ saved [7176/7176]\n",
            "\n"
          ]
        }
      ]
    },
    {
      "cell_type": "code",
      "source": [
        "import experiment\n",
        "help(experiment)"
      ],
      "metadata": {
        "colab": {
          "base_uri": "https://localhost:8080/"
        },
        "id": "gtX8eTsCJrkS",
        "outputId": "efe4344e-6097-4b5d-f5a3-4baf5f5ba211"
      },
      "execution_count": null,
      "outputs": [
        {
          "output_type": "stream",
          "name": "stdout",
          "text": [
            "Help on module experiment:\n",
            "\n",
            "NAME\n",
            "    experiment\n",
            "\n",
            "FUNCTIONS\n",
            "    drawChallenge(ans)\n",
            "    \n",
            "    drawEnding()\n",
            "    \n",
            "    drawPoints()\n",
            "    \n",
            "    generateCoords(points, w, h)\n",
            "    \n",
            "    generateEnding()\n",
            "    \n",
            "    generateImage(points, d=3)\n",
            "    \n",
            "    generateIncentive(incentive)\n",
            "    \n",
            "    generateSplash()\n",
            "    \n",
            "    nextIm(btn)\n",
            "    \n",
            "    updateIncentives(NPregunta, disabled=False)\n",
            "\n",
            "FILE\n",
            "    /content/experiment.py\n",
            "\n",
            "\n"
          ]
        }
      ]
    },
    {
      "cell_type": "code",
      "source": [
        "history = []\n",
        "RAnswerC = 0\n",
        "TotPreguntas = PREGUNTAS_TOTALES\n",
        "incentives = []\n",
        "getbinary = lambda x, n: format(x, 'b').zfill(n)\n",
        "for i in range(TotPreguntas):\n",
        "    inc = [getbinary(random.randint(0,15),4), getbinary(random.randint(0,15),4)]\n",
        "    incentives.append(inc)\n",
        "###print(incentives)\n",
        "startTime = None\n",
        "endTime = None\n",
        "ans = None\n",
        "window=Tk()\n",
        "gamestate = \"init\"  #\n",
        "NPregunta = 0\n",
        "window.title('Hello Python')\n",
        "window.geometry(\"1200x700+10+10\")"
      ],
      "metadata": {
        "colab": {
          "base_uri": "https://localhost:8080/",
          "height": 392
        },
        "id": "JRdWERMEKudM",
        "outputId": "d525fcdc-3690-4838-ed54-241fa9092439"
      },
      "execution_count": null,
      "outputs": [
        {
          "output_type": "error",
          "ename": "TclError",
          "evalue": "ignored",
          "traceback": [
            "\u001b[0;31m---------------------------------------------------------------------------\u001b[0m",
            "\u001b[0;31mTclError\u001b[0m                                  Traceback (most recent call last)",
            "\u001b[0;32m<ipython-input-16-e8d1c2d774ae>\u001b[0m in \u001b[0;36m<module>\u001b[0;34m()\u001b[0m\n\u001b[1;32m     11\u001b[0m \u001b[0mendTime\u001b[0m \u001b[0;34m=\u001b[0m \u001b[0;32mNone\u001b[0m\u001b[0;34m\u001b[0m\u001b[0;34m\u001b[0m\u001b[0m\n\u001b[1;32m     12\u001b[0m \u001b[0mans\u001b[0m \u001b[0;34m=\u001b[0m \u001b[0;32mNone\u001b[0m\u001b[0;34m\u001b[0m\u001b[0;34m\u001b[0m\u001b[0m\n\u001b[0;32m---> 13\u001b[0;31m \u001b[0mwindow\u001b[0m\u001b[0;34m=\u001b[0m\u001b[0mTk\u001b[0m\u001b[0;34m(\u001b[0m\u001b[0;34m)\u001b[0m\u001b[0;34m\u001b[0m\u001b[0;34m\u001b[0m\u001b[0m\n\u001b[0m\u001b[1;32m     14\u001b[0m \u001b[0mgamestate\u001b[0m \u001b[0;34m=\u001b[0m \u001b[0;34m\"init\"\u001b[0m  \u001b[0;31m#\u001b[0m\u001b[0;34m\u001b[0m\u001b[0;34m\u001b[0m\u001b[0m\n\u001b[1;32m     15\u001b[0m \u001b[0mNPregunta\u001b[0m \u001b[0;34m=\u001b[0m \u001b[0;36m0\u001b[0m\u001b[0;34m\u001b[0m\u001b[0;34m\u001b[0m\u001b[0m\n",
            "\u001b[0;32m/usr/lib/python3.7/tkinter/__init__.py\u001b[0m in \u001b[0;36m__init__\u001b[0;34m(self, screenName, baseName, className, useTk, sync, use)\u001b[0m\n\u001b[1;32m   2021\u001b[0m                 \u001b[0mbaseName\u001b[0m \u001b[0;34m=\u001b[0m \u001b[0mbaseName\u001b[0m \u001b[0;34m+\u001b[0m \u001b[0mext\u001b[0m\u001b[0;34m\u001b[0m\u001b[0;34m\u001b[0m\u001b[0m\n\u001b[1;32m   2022\u001b[0m         \u001b[0minteractive\u001b[0m \u001b[0;34m=\u001b[0m \u001b[0;36m0\u001b[0m\u001b[0;34m\u001b[0m\u001b[0;34m\u001b[0m\u001b[0m\n\u001b[0;32m-> 2023\u001b[0;31m         \u001b[0mself\u001b[0m\u001b[0;34m.\u001b[0m\u001b[0mtk\u001b[0m \u001b[0;34m=\u001b[0m \u001b[0m_tkinter\u001b[0m\u001b[0;34m.\u001b[0m\u001b[0mcreate\u001b[0m\u001b[0;34m(\u001b[0m\u001b[0mscreenName\u001b[0m\u001b[0;34m,\u001b[0m \u001b[0mbaseName\u001b[0m\u001b[0;34m,\u001b[0m \u001b[0mclassName\u001b[0m\u001b[0;34m,\u001b[0m \u001b[0minteractive\u001b[0m\u001b[0;34m,\u001b[0m \u001b[0mwantobjects\u001b[0m\u001b[0;34m,\u001b[0m \u001b[0museTk\u001b[0m\u001b[0;34m,\u001b[0m \u001b[0msync\u001b[0m\u001b[0;34m,\u001b[0m \u001b[0muse\u001b[0m\u001b[0;34m)\u001b[0m\u001b[0;34m\u001b[0m\u001b[0;34m\u001b[0m\u001b[0m\n\u001b[0m\u001b[1;32m   2024\u001b[0m         \u001b[0;32mif\u001b[0m \u001b[0museTk\u001b[0m\u001b[0;34m:\u001b[0m\u001b[0;34m\u001b[0m\u001b[0;34m\u001b[0m\u001b[0m\n\u001b[1;32m   2025\u001b[0m             \u001b[0mself\u001b[0m\u001b[0;34m.\u001b[0m\u001b[0m_loadtk\u001b[0m\u001b[0;34m(\u001b[0m\u001b[0;34m)\u001b[0m\u001b[0;34m\u001b[0m\u001b[0;34m\u001b[0m\u001b[0m\n",
            "\u001b[0;31mTclError\u001b[0m: no display name and no $DISPLAY environment variable"
          ]
        }
      ]
    },
    {
      "cell_type": "code",
      "source": [
        "#GENERA LA CARPETA PARA LOS RESULTADOS\n",
        "if not os.path.exists(\"Resultados\"):\n",
        "    os.makedirs(\"Resultados\")\n",
        "\n",
        "#GENERA LOS TEXTOS\n",
        "\n",
        "i = generateSplash()  #GENERA LA IMAGEN DE INSTRUCCIONES\n",
        "tkimage = ImageTk.PhotoImage(i)\n",
        "lb = Label(window, image=tkimage)\n",
        "lb.grid(row=0, column=1, columnspan=7, rowspan=4)\n",
        "lb2 = Label(window, text=\"Pregunta n de N\")\n",
        "lb2.grid(row=4,column=6)\n",
        "\n",
        "\n",
        "#GENERA LOS SEMAFOROS\n",
        "pad = 70\n",
        "leftpad = 50\n",
        "top = 15\n",
        "size = 100\n",
        "light1 = Canvas(window, width=200,height=700,bg=\"white\")\n",
        "light1.grid(row=0,column=0,rowspan=8)\n",
        "light1.create_rectangle(5, 5, 195, 695)\n",
        "\n",
        "for i in range(4):\n",
        "    light1.create_oval(leftpad, top+i*size+(i*pad), leftpad+size, top+(i+1)*size+i*pad, fill=\"lightblue\")\n",
        "    light1.create_text(int(leftpad/2), top+(i+1)*size+i*pad+10, text=\"KPI\"+str(i))\n",
        "\n",
        "light2 = Canvas(window, width=200,height=700,bg=\"white\")\n",
        "light2.grid(row=0,column=9,rowspan=8)\n",
        "light2.create_rectangle(5, 5, 195, 695)\n",
        "\n",
        "for i in range(4):\n",
        "    light2.create_oval(leftpad, top+i*size+(i*pad), leftpad+size, top+(i+1)*size+i*pad, fill=\"green\")\n",
        "    light2.create_text(int(leftpad/2), top+(i+1)*size+i*pad+10, text=\"NB\"+str(i))\n",
        "\n",
        "#CONSTRUIMOS LOS BOTONES\n",
        "\n",
        "btn1 = Button(window, text='Opcion 1', command=lambda: nextIm(38), state=DISABLED)\n",
        "btn1.grid(row=4, column=1)\n",
        "btn2 = Button(window, text='Opcion 2', command=lambda: nextIm(39), state=DISABLED)\n",
        "btn2.grid(row=4, column=2)\n",
        "btn3 = Button(window, text='Opcion 3', command=lambda: nextIm(40), state=DISABLED)\n",
        "btn3.grid(row=4, column=3)\n",
        "btn4 = Button(window, text='Opcion 4', command=lambda: nextIm(41), state=DISABLED)\n",
        "btn4.grid(row=4, column=4)\n",
        "btn5 = Button(window, text='COMENZAR', command=lambda: nextIm(42), state=NORMAL)\n",
        "btn5.grid(row=4, column=5)\n",
        "window.mainloop() #ACTIVA LA VENTANA"
      ],
      "metadata": {
        "id": "HKt913NWJtcE"
      },
      "execution_count": null,
      "outputs": []
    }
  ]
}